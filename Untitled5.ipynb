{
 "cells": [
  {
   "cell_type": "code",
   "execution_count": 4,
   "metadata": {},
   "outputs": [],
   "source": [
    "import numpy as np\n",
    "import pandas as pd\n",
    "\n",
    "from numpy.random import randn \n"
   ]
  },
  {
   "cell_type": "code",
   "execution_count": 5,
   "metadata": {},
   "outputs": [],
   "source": [
    "from scipy import stats"
   ]
  },
  {
   "cell_type": "code",
   "execution_count": 13,
   "metadata": {},
   "outputs": [],
   "source": [
    "import matplotlib as mpl\n",
    "import matplotlib.pyplot as plt\n",
    "import seaborn as sns"
   ]
  },
  {
   "cell_type": "code",
   "execution_count": 14,
   "metadata": {},
   "outputs": [],
   "source": [
    "%matplotlib inline"
   ]
  },
  {
   "cell_type": "code",
   "execution_count": 34,
   "metadata": {},
   "outputs": [],
   "source": [
    "ds1 = randn(100)"
   ]
  },
  {
   "cell_type": "code",
   "execution_count": 35,
   "metadata": {},
   "outputs": [
    {
     "data": {
      "text/plain": [
       "(array([ 1.,  2.,  3., 10., 17., 25., 17., 16.,  5.,  4.]),\n",
       " array([-3.14394794, -2.5620254 , -1.98010285, -1.3981803 , -0.81625776,\n",
       "        -0.23433521,  0.34758734,  0.92950989,  1.51143243,  2.09335498,\n",
       "         2.67527753]),\n",
       " <a list of 10 Patch objects>)"
      ]
     },
     "execution_count": 35,
     "metadata": {},
     "output_type": "execute_result"
    },
    {
     "data": {
      "image/png": "[encoded data removed]",
      "text/plain": [
       "<Figure size 432x288 with 1 Axes>"
      ]
     },
     "metadata": {
      "needs_background": "light"
     },
     "output_type": "display_data"
    }
   ],
   "source": [
    "plt.hist(ds1)"
   ]
  },
  {
   "cell_type": "code",
   "execution_count": 36,
   "metadata": {},
   "outputs": [
    {
     "data": {
      "text/plain": [
       "array([ 1.16360219,  0.22301216,  1.61397109, -0.01593988,  0.45566096,\n",
       "        1.31347164,  1.11524159, -0.51777809,  0.08006613, -0.13129992,\n",
       "       -0.28241948,  2.13306363,  1.22517289,  1.42202262, -1.01688038,\n",
       "        0.87604588, -0.35494005,  1.07793466, -0.18375071,  2.61680374,\n",
       "       -0.84838421, -1.6632272 ,  1.01812515,  1.81646179, -0.69451852,\n",
       "       -1.04427364,  2.67527753,  0.1234807 ,  1.01117121,  0.17509004,\n",
       "       -0.21764399, -0.70120911, -2.50812821, -0.59991119, -0.97002988,\n",
       "       -0.70517908,  0.34134108,  0.80269853,  0.39331731, -1.56205458,\n",
       "        0.95966596, -0.44084472, -1.74646837, -1.11689719,  1.11828928,\n",
       "        2.17782975,  0.28599482,  0.36705706,  0.92428241,  0.64809968,\n",
       "       -0.07744425,  0.80843847, -0.58274469, -0.10494038, -0.07193143,\n",
       "        1.144765  , -3.14394794, -0.44362218, -0.38506045,  0.31020749,\n",
       "        0.63527583, -0.2318237 ,  1.23155154,  0.71344231, -0.13958024,\n",
       "        1.20628454, -0.04676775, -1.27551781,  0.85896911,  1.02187746,\n",
       "       -0.11273512,  0.88233672,  0.49031243, -1.10894005,  1.94514756,\n",
       "        0.00736266,  0.07184491,  1.05435561, -2.1348918 , -0.9757005 ,\n",
       "       -0.37546266, -0.10096369,  0.77405206,  0.6056963 ,  0.81714837,\n",
       "        0.92235177, -0.56371453, -0.09202729, -0.61595168,  1.44037657,\n",
       "       -1.30720221, -0.66174466,  1.82122872, -0.60380581,  1.7238996 ,\n",
       "       -0.27912115,  0.13652824, -1.02446591, -0.15406975,  0.1044628 ])"
      ]
     },
     "execution_count": 36,
     "metadata": {},
     "output_type": "execute_result"
    }
   ],
   "source": [
    "ds1"
   ]
  },
  {
   "cell_type": "code",
   "execution_count": 44,
   "metadata": {},
   "outputs": [],
   "source": [
    "ds2 = randn(25)"
   ]
  },
  {
   "cell_type": "code",
   "execution_count": 51,
   "metadata": {},
   "outputs": [
    {
     "data": {
      "text/plain": [
       "<matplotlib.axes._subplots.AxesSubplot at 0xb31ba58>"
      ]
     },
     "execution_count": 51,
     "metadata": {},
     "output_type": "execute_result"
    },
    {
     "data": {
      "image/png": "[encoded data removed]",
      "text/plain": [
       "<Figure size 432x288 with 1 Axes>"
      ]
     },
     "metadata": {
      "needs_background": "light"
     },
     "output_type": "display_data"
    }
   ],
   "source": [
    "sns.rugplot(ds2)\n",
    "sns.kdeplot(ds1)\n",
    "#plt.ylim(0,0.005)"
   ]
  },
  {
   "cell_type": "code",
   "execution_count": 33,
   "metadata": {},
   "outputs": [
    {
     "data": {
      "text/plain": [
       "97"
      ]
     },
     "execution_count": 33,
     "metadata": {},
     "output_type": "execute_result"
    }
   ],
   "source": [
    "ds1"
   ]
  },
  {
   "cell_type": "code",
   "execution_count": 31,
   "metadata": {},
   "outputs": [
    {
     "data": {
      "text/plain": [
       "array([ 0.59026867, -1.02667111, -1.00699451, -0.6613461 ,  2.58004358,\n",
       "       -0.35619757,  0.53853302,  0.8553682 , -1.0078482 , -1.33949637,\n",
       "       -0.99094029, -0.51745345,  0.80273334,  0.59017219, -1.8216777 ,\n",
       "        0.14120015, -1.6141334 ,  2.07254727, -0.65582778,  0.72720804,\n",
       "       -1.12510457,  0.78643852,  0.80640941, -1.15862436,  1.04451781])"
      ]
     },
     "execution_count": 31,
     "metadata": {},
     "output_type": "execute_result"
    }
   ],
   "source": [
    "ds2"
   ]
  },
  {
   "cell_type": "code",
   "execution_count": null,
   "metadata": {},
   "outputs": [],
   "source": []
  }
 ],
 "metadata": {
  "kernelspec": {
   "display_name": "Python 3",
   "language": "python",
   "name": "python3"
  },
  "language_info": {
   "codemirror_mode": {
    "name": "ipython",
    "version": 3
   },
   "file_extension": ".py",
   "mimetype": "text/x-python",
   "name": "python",
   "nbconvert_exporter": "python",
   "pygments_lexer": "ipython3",
   "version": "3.7.1"
  }
 },
 "nbformat": 4,
 "nbformat_minor": 2
}
